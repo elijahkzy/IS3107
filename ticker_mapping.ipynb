{
 "cells": [
  {
   "attachments": {},
   "cell_type": "markdown",
   "metadata": {},
   "source": [
    "To be run after Setup BigQuery"
   ]
  },
  {
   "cell_type": "code",
   "execution_count": null,
   "metadata": {},
   "outputs": [],
   "source": [
    "import yfinance as yf\n",
    "import pandas as pd\n",
    "import numpy as np\n",
    "from google.cloud import bigquery\n",
    "import os\n",
    "import json\n",
    "from datetime import datetime, timedelta\n",
    "\n",
    "# Instantiate a BigQuery client\n",
    "# change directories\n",
    "openfile=open('C:/AA NUS/Y3S2/IS3107/Project Testing/named-indexer-378411-ed3c593498ad.json')\n",
    "jsondata=json.load(openfile)\n",
    "openfile.close()\n",
    "project_id = jsondata['project_id']\n",
    "credentials_path = 'C:/AA NUS/Y3S2/IS3107/Project Testing/named-indexer-378411-ed3c593498ad.json'\n",
    "os.environ[\"GOOGLE_APPLICATION_CREDENTIALS\"]= credentials_path\n",
    "client = bigquery.Client()\n",
    "\n",
    "\n",
    "# Define the names of the two tables you want to join\n",
    "yfinance_table_name = project_id + \".yfinance_data_raw.stock_info\"\n",
    "twitter_table_name = project_id + \".twitter_data.stock_info\""
   ]
  },
  {
   "cell_type": "code",
   "execution_count": 9,
   "metadata": {},
   "outputs": [
    {
     "name": "stdout",
     "output_type": "stream",
     "text": [
      "Created table named-indexer-378411.yfinance_data.ticker_mapping\n"
     ]
    }
   ],
   "source": [
    "# Creation of Ticker Mapping table\n",
    "ticker_mapping = \"yfinance_data.ticker_mapping\"\n",
    "schema = [\n",
    "    bigquery.SchemaField(\"Ticker\", \"STRING\", mode=\"REQUIRED\"),\n",
    "    bigquery.SchemaField(\"Ticker Name\", \"STRING\", mode=\"REQUIRED\"),\n",
    "]\n",
    "table = bigquery.Table(project_id + \".\" + ticker_mapping, schema=schema)\n",
    "\n",
    "table = client.create_table(table, exists_ok=True)  # Make an API request.\n",
    "print(\"Created table {}.{}.{}\".format(table.project, table.dataset_id, table.table_id))\n",
    "job_config = bigquery.LoadJobConfig()\n",
    "job_config.write_disposition = bigquery.WriteDisposition.WRITE_TRUNCATE"
   ]
  },
  {
   "cell_type": "code",
   "execution_count": 10,
   "metadata": {},
   "outputs": [
    {
     "name": "stdout",
     "output_type": "stream",
     "text": [
      "Rows inserted successfully.\n"
     ]
    }
   ],
   "source": [
    "table = bigquery.Table(project_id + \".\" + ticker_mapping, schema=schema)\n",
    "\n",
    "# Clear existing data from the table\n",
    "# delete_query = f\"\"\"\n",
    "#     DELETE FROM `{project_id}.{ticker_mapping}`\n",
    "#     WHERE Ticker is NOT NULL\n",
    "# \"\"\"\n",
    "# job = client.query(delete_query)\n",
    "\n",
    "# TODO edit the names\n",
    "rows_to_insert = [\n",
    "    (\"ME8U.SI\", \"Mapletree Industrial Trust\"),\n",
    "    (\"N2IU.SI\", \"Mapletree Pan Asia Commercial Trust\"),\n",
    "    (\"C38U.SI\", \"CapitaLand Integrated Commercial Trust\"),\n",
    "    (\"YF8.SI\", \"Yangzijiang Financial Holding Ltd.\"),\n",
    "    (\"BS6.SI\", \"Yangzijiang Shipbuilding (Holdings) Ltd.\"),\n",
    "    (\"D05.SI\", \"dbs\"),\n",
    "    (\"U11.SI\", \"United Overseas Bank Limited\"),\n",
    "    (\"C07.SI\", \"Jardine Cycle & Carriage Limited\"),\n",
    "    (\"V03.SI\", \"Venture Corporation Limited\"),\n",
    "    (\"H78.SI\", \"Hongkong Land Holdings Limited\"),\n",
    "    (\"9CI.SI\", \"CapitaLand Investment Limited\"),\n",
    "    (\"S63.SI\", \"Singapore Technologies Engineering Ltd\"),\n",
    "    (\"D01.SI\", \"DFI Retail Group Holdings Limited\"),\n",
    "    (\"Z74.SI\", \"singtel\"),\n",
    "    (\"BN4.SI\", \"Keppel Corporation Limited\"),\n",
    "    (\"O39.SI\", \"Oversea-Chinese Banking Corporation Limited\"),\n",
    "    (\"A17U.SI\", \"CapitaLand Ascendas REIT\"),\n",
    "    (\"S58.SI\", \"sats\"),\n",
    "    (\"BUOU.SI\", \"Frasers Logistics & Commercial Trust\"),\n",
    "    (\"J36.SI\", \"Jardine Matheson Holdings Limited\"),\n",
    "    (\"C09.SI\", \"City Developments Limited\"),\n",
    "    (\"C52.SI\", \"ComfortDelGro Corporation Limited\"),\n",
    "    (\"G13.SI\", \"Genting Singapore Limited\"),\n",
    "    (\"F34.SI\", \"Wilmar International Limited\"),\n",
    "    (\"AJBU.SI\", \"Keppel DC REIT\"),\n",
    "    (\"EMI.SI\", \"Emperador Inc.\"),\n",
    "    (\"M44U.SI\", \"Mapletree Logistics Trust\"),\n",
    "    (\"U96.SI\", \"Sembcorp Industries Ltd\"),\n",
    "    (\"U14.SI\", \"UOL Group Limited\"),\n",
    "    (\"Y92.SI\", \"Thai Beverage Public Company Limited\"),\n",
    "]\n",
    "\n",
    "\n",
    "errors = client.insert_rows(table, rows_to_insert)\n",
    "if errors:\n",
    "    print(f\"Encountered errors while inserting rows: {errors}\")\n",
    "else:\n",
    "    print(\"Rows inserted successfully.\")\n",
    "\n",
    "job_config = bigquery.LoadJobConfig()\n",
    "job_config.write_disposition = bigquery.WriteDisposition.WRITE_TRUNCATE"
   ]
  }
 ],
 "metadata": {
  "kernelspec": {
   "display_name": "Python 3",
   "language": "python",
   "name": "python3"
  },
  "language_info": {
   "codemirror_mode": {
    "name": "ipython",
    "version": 3
   },
   "file_extension": ".py",
   "mimetype": "text/x-python",
   "name": "python",
   "nbconvert_exporter": "python",
   "pygments_lexer": "ipython3",
   "version": "3.10.10"
  },
  "orig_nbformat": 4
 },
 "nbformat": 4,
 "nbformat_minor": 2
}
