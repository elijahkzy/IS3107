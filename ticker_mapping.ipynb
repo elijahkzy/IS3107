{
 "cells": [
  {
   "attachments": {},
   "cell_type": "markdown",
   "metadata": {},
   "source": [
    "To be run after Setup BigQuery"
   ]
  },
  {
   "cell_type": "code",
   "execution_count": 17,
   "metadata": {},
   "outputs": [],
   "source": [
    "import yfinance as yf\n",
    "import pandas as pd\n",
    "import numpy as np\n",
    "from google.cloud import bigquery\n",
    "import os\n",
    "import json\n",
    "from datetime import datetime, timedelta\n",
    "\n",
    "# Change to your key\n",
    "key = 'C:/AA NUS/Y3S2/IS3107/Project Testing/key.json'\n",
    "\n",
    "# Instantiate a BigQuery client\n",
    "# change directories\n",
    "openfile=open(key)\n",
    "jsondata=json.load(openfile)\n",
    "openfile.close()\n",
    "project_id = jsondata['project_id']\n",
    "credentials_path = key\n",
    "os.environ[\"GOOGLE_APPLICATION_CREDENTIALS\"]= credentials_path\n",
    "client = bigquery.Client()\n",
    "\n",
    "\n",
    "# Define the names of the two tables you want to join\n",
    "yfinance_table_name = project_id + \".yfinance_data_raw.stock_info\"\n",
    "twitter_table_name = project_id + \".twitter_data.stock_info\""
   ]
  },
  {
   "cell_type": "code",
   "execution_count": 18,
   "metadata": {},
   "outputs": [
    {
     "name": "stdout",
     "output_type": "stream",
     "text": [
      "Created table hypnotic-shard-383009.yfinance_data.ticker_mapping\n"
     ]
    }
   ],
   "source": [
    "# Creation of Ticker Mapping table\n",
    "ticker_mapping = \"yfinance_data.ticker_mapping\"\n",
    "schema = [\n",
    "    bigquery.SchemaField(\"Ticker\", \"STRING\", mode=\"REQUIRED\"),\n",
    "    bigquery.SchemaField(\"Ticker Name\", \"STRING\", mode=\"REQUIRED\"),\n",
    "]\n",
    "table = bigquery.Table(project_id + \".\" + ticker_mapping, schema=schema)\n",
    "\n",
    "table = client.create_table(table, exists_ok=True)  # Make an API request.\n",
    "print(\"Created table {}.{}.{}\".format(table.project, table.dataset_id, table.table_id))\n",
    "job_config = bigquery.LoadJobConfig()\n",
    "job_config.write_disposition = bigquery.WriteDisposition.WRITE_TRUNCATE"
   ]
  },
  {
   "cell_type": "code",
   "execution_count": 19,
   "metadata": {},
   "outputs": [
    {
     "name": "stdout",
     "output_type": "stream",
     "text": [
      "Rows inserted successfully.\n"
     ]
    }
   ],
   "source": [
    "table = bigquery.Table(project_id + \".\" + ticker_mapping, schema=schema)\n",
    "\n",
    "rows_to_insert = [\n",
    "    (\"D05.SI\", \"dbs\"),\n",
    "    (\"SE\", \"garena\"),\n",
    "    (\"SE\", \"shopee\"),\n",
    "    (\"O39.SI\", \"ocbc\"),\n",
    "    (\"U11.SI\", \"uob\"),\n",
    "    (\"Z74.SI\", \"singtel\"),\n",
    "    (\"F34.SI\", \"wilmar\"),\n",
    "    (\"C6L.SI\", \"singapore airlines\"),\n",
    "    (\"GRAB\", \"grab\"),\n",
    "    (\"G13.SI\", \"genting\"),\n",
    "    (\"C38U.SI\", \"capitaland\"),\n",
    "    (\"G07.SI\", \"great eastern\"),\n",
    "    (\"C07.SI\", \"jardine\"),\n",
    "    (\"A17U.SI\", \"ascendas\"),\n",
    "    (\"S63.SI\", \"st engineering\"),\n",
    "    (\"BN4.SI\", \"keppel\"),\n",
    "]\n",
    "\n",
    "errors = client.insert_rows(table, rows_to_insert)\n",
    "if errors:\n",
    "    print(f\"Encountered errors while inserting rows: {errors}\")\n",
    "else:\n",
    "    print(\"Rows inserted successfully.\")\n",
    "\n",
    "job_config = bigquery.LoadJobConfig()\n",
    "job_config.write_disposition = bigquery.WriteDisposition.WRITE_TRUNCATE"
   ]
  }
 ],
 "metadata": {
  "kernelspec": {
   "display_name": "Python 3",
   "language": "python",
   "name": "python3"
  },
  "language_info": {
   "codemirror_mode": {
    "name": "ipython",
    "version": 3
   },
   "file_extension": ".py",
   "mimetype": "text/x-python",
   "name": "python",
   "nbconvert_exporter": "python",
   "pygments_lexer": "ipython3",
   "version": "3.10.10"
  },
  "orig_nbformat": 4
 },
 "nbformat": 4,
 "nbformat_minor": 2
}
